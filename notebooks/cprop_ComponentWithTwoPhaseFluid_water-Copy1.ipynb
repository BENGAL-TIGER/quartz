{
 "cells": [
  {
   "cell_type": "code",
   "execution_count": 1,
   "metadata": {},
   "outputs": [
    {
     "data": {
      "text/plain": [
       "True"
      ]
     },
     "metadata": {},
     "output_type": "display_data"
    }
   ],
   "source": [
    "loadModel(Modelica) "
   ]
  },
  {
   "cell_type": "code",
   "execution_count": 2,
   "metadata": {},
   "outputs": [
    {
     "data": {
      "text/plain": [
       "True"
      ]
     },
     "metadata": {},
     "output_type": "display_data"
    }
   ],
   "source": [
    "loadFile(\"/opt/modelica/ExternalMedia/Modelica/ExternalMedia 3.2.1/package.mo\")"
   ]
  },
  {
   "cell_type": "code",
   "execution_count": 7,
   "metadata": {},
   "outputs": [
    {
     "data": {
      "text/plain": [
       "('TestEM',)"
      ]
     },
     "metadata": {},
     "output_type": "display_data"
    }
   ],
   "source": [
    "model TestEM\n",
    "  constant String s = ExternalMedia.Common.CheckCoolPropOptions(\"Water|calc_transport=0|debug=100\", debug=true);\n",
    "\n",
    "  package Medium = ExternalMedia.Media.CoolPropMedium (substanceNames = {s});\n",
    "  Medium.ThermodynamicState state;\n",
    "\n",
    "  Medium.AbsolutePressure p(start=1e5);\n",
    "  Medium.SpecificEnthalpy h(start=1e5);\n",
    "  \n",
    "  Medium.Density d;\n",
    "\n",
    "equation \n",
    "  p = 1e5+1e5*time;\n",
    "  h = 1e5+1e5*time;\n",
    "  state = Medium.setState_ph(p,h);\n",
    "  d = Medium.density(state);\n",
    "end TestEM;"
   ]
  },
  {
   "cell_type": "code",
   "execution_count": 8,
   "metadata": {},
   "outputs": [
    {
     "data": {
      "text/plain": [
       "{'resultFile': '', 'simulationOptions': \"startTime = 0.0, stopTime = 1.0, numberOfIntervals = 500, tolerance = 1e-06, method = 'dassl', fileNamePrefix = 'TestEM', options = '', outputFormat = 'mat', variableFilter = '.*', cflags = '', simflags = ''\", 'messages': 'Failed to build model: TestEM', 'timeFrontend': 4.4767488, 'timeBackend': 0.0034389, 'timeSimCode': 0.0156434, 'timeTemplates': 0.0406716, 'timeCompile': 0.4234226, 'timeSimulation': 0.0, 'timeTotal': 4.9600049}"
      ]
     },
     "metadata": {},
     "output_type": "display_data"
    }
   ],
   "source": [
    "simulate(TestEM)"
   ]
  },
  {
   "cell_type": "code",
   "execution_count": 5,
   "metadata": {},
   "outputs": [
    {
     "data": {
      "text/plain": [
       "\n"
      ]
     },
     "metadata": {},
     "output_type": "display_data"
    }
   ],
   "source": [
    "getEnvironmentVar(EXTMED_DIR)"
   ]
  },
  {
   "cell_type": "code",
   "execution_count": 6,
   "metadata": {},
   "outputs": [
    {
     "data": {
      "text/plain": [
       "\n"
      ]
     },
     "metadata": {},
     "output_type": "display_data"
    }
   ],
   "source": [
    "ENV[EXTMED_DIR]"
   ]
  },
  {
   "cell_type": "code",
   "execution_count": null,
   "metadata": {},
   "outputs": [],
   "source": []
  }
 ],
 "metadata": {
  "kernelspec": {
   "display_name": "OpenModelica",
   "language": "OpenModelica",
   "name": "openmodelica"
  },
  "language_info": {
   "mimetype": "text/x-modelica",
   "name": "modelica",
   "version": "1.0"
  }
 },
 "nbformat": 4,
 "nbformat_minor": 2
}
