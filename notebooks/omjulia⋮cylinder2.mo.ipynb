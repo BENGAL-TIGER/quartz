{
 "cells": [
  {
   "cell_type": "code",
   "execution_count": 1,
   "metadata": {},
   "outputs": [
    {
     "name": "stderr",
     "output_type": "stream",
     "text": [
      "┌ Info: Recompiling stale cache file /opt/julia/compiled/v1.0/OMJulia/TnZao.ji for OMJulia [b9c49fa3-9548-50ca-88f4-bcd0bd4a191f]\n",
      "└ @ Base loading.jl:1190\n",
      "┌ Warning: Package OMJulia does not have ZMQ in its dependencies:\n",
      "│ - If you have OMJulia checked out for development and have\n",
      "│   added ZMQ as a dependency but haven't updated your primary\n",
      "│   environment's manifest file, try `Pkg.resolve()`.\n",
      "│ - Otherwise you may need to report an issue with OMJulia\n",
      "└ Loading ZMQ into OMJulia from project dependency, future warnings for OMJulia are suppressed.\n"
     ]
    }
   ],
   "source": [
    "using OMJulia"
   ]
  },
  {
   "cell_type": "code",
   "execution_count": 2,
   "metadata": {},
   "outputs": [],
   "source": [
    "mod = OMJulia.OMCSession();"
   ]
  },
  {
   "cell_type": "code",
   "execution_count": 3,
   "metadata": {},
   "outputs": [
    {
     "data": {
      "text/plain": [
       "\"true\\n\""
      ]
     },
     "execution_count": 3,
     "metadata": {},
     "output_type": "execute_result"
    }
   ],
   "source": [
    "mod.sendExpression(\"loadModel(Modelica)\")"
   ]
  },
  {
   "cell_type": "code",
   "execution_count": 4,
   "metadata": {},
   "outputs": [
    {
     "data": {
      "text/plain": [
       "\"\""
      ]
     },
     "execution_count": 4,
     "metadata": {},
     "output_type": "execute_result"
    }
   ],
   "source": [
    "mofile=\"\""
   ]
  },
  {
   "cell_type": "code",
   "execution_count": 5,
   "metadata": {},
   "outputs": [
    {
     "data": {
      "text/plain": [
       "\"{cylinder}\\n\""
      ]
     },
     "execution_count": 5,
     "metadata": {},
     "output_type": "execute_result"
    }
   ],
   "source": [
    "mod.sendExpression(\"parseFile(\\\"/user/jovyan/work/cylinder2.mo\\\")\")"
   ]
  },
  {
   "cell_type": "raw",
   "metadata": {},
   "source": [
    "mod.sendExpression(\"instantiate(cylinder2)\")"
   ]
  },
  {
   "cell_type": "code",
   "execution_count": 6,
   "metadata": {},
   "outputs": [
    {
     "data": {
      "text/plain": [
       "\"record SimulationResult\\n    resultFile = \\\"\\\",\\n    simulationOptions = \\\"startTime = 0.0, stopTime = 1.0, numberOfIntervals = 500, tolerance = 1e-06, method = 'dassl', fileNamePrefix = 'cylinder2', options = '', outputFormat = 'mat', variableFilter = '.*', cflags = '', simflags = ''\\\",\\n    messages = \\\"Simulation Failed. Model: cylinder2 does not exist! Please load it first before simulation.\\\",\\n    timeFrontend = 0.0,\\n    timeBackend = 0.0,\\n    timeSimCode = 0.0,\\n    timeTemplates = 0.0,\\n    timeCompile = 0.0,\\n    timeSimulation = 0.0,\\n    timeTotal = 0.0\\nend SimulationResult;\\n\""
      ]
     },
     "execution_count": 6,
     "metadata": {},
     "output_type": "execute_result"
    }
   ],
   "source": [
    "mod.sendExpression(\"simulate(cylinder2)\")"
   ]
  },
  {
   "cell_type": "code",
   "execution_count": 7,
   "metadata": {},
   "outputs": [
    {
     "data": {
      "text/plain": [
       "\"\\\"/usr/lib/omlibrary:/home/jovyan/.openmodelica/libraries/\\\"\\n\""
      ]
     },
     "execution_count": 7,
     "metadata": {},
     "output_type": "execute_result"
    }
   ],
   "source": [
    "mod.sendExpression(\"getModelicaPath()\")"
   ]
  },
  {
   "cell_type": "code",
   "execution_count": null,
   "metadata": {},
   "outputs": [],
   "source": []
  }
 ],
 "metadata": {
  "kernelspec": {
   "display_name": "Julia 1.0.3",
   "language": "julia",
   "name": "julia-1.0"
  },
  "language_info": {
   "file_extension": ".jl",
   "mimetype": "application/julia",
   "name": "julia",
   "version": "1.0.3"
  }
 },
 "nbformat": 4,
 "nbformat_minor": 2
}
