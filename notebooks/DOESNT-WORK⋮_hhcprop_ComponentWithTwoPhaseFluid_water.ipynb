{
 "cells": [
  {
   "cell_type": "code",
   "execution_count": 3,
   "metadata": {},
   "outputs": [
    {
     "data": {
      "text/plain": [
       "True"
      ]
     },
     "metadata": {},
     "output_type": "display_data"
    }
   ],
   "source": [
    "loadModel(Modelica) "
   ]
  },
  {
   "cell_type": "code",
   "execution_count": 5,
   "metadata": {},
   "outputs": [
    {
     "data": {
      "text/plain": [
       "True"
      ]
     },
     "metadata": {},
     "output_type": "display_data"
    }
   ],
   "source": [
    "loadFile(\"/opt/modelica/ExternalMedia 3.2.1/package.mo\")"
   ]
  },
  {
   "cell_type": "code",
   "execution_count": null,
   "metadata": {},
   "outputs": [],
   "source": [
    "import SI = Modelica.SIunits;\n",
    "package Toluene\n",
    "extends ExternalTwoPhaseMedium(\n",
    "    mediumName=”Toluene”,\n",
    "    libraryName=”CoolProp”,\n",
    "    substanceName=”Toluene”);\n",
    "end Toluene;"
   ]
  },
  {
   "cell_type": "code",
   "execution_count": 4,
   "metadata": {},
   "outputs": [
    {
     "data": {
      "text/plain": [
       "('Example',)"
      ]
     },
     "metadata": {},
     "output_type": "display_data"
    }
   ],
   "source": [
    "model Example \n",
    "    Toluene.ThermodynamicState state; \n",
    "    SI.Density d;\n",
    "    SI.SpecificEnthalpy h;\n",
    "equation\n",
    "  state = Toluene.setState_pT(1e5,300);\n",
    "  d = Toluene.density(state);\n",
    "  h = Toluene.specificEnthalpy(state);\n",
    "end Example;"
   ]
  },
  {
   "cell_type": "code",
   "execution_count": 5,
   "metadata": {},
   "outputs": [
    {
     "data": {
      "text/plain": [
       "{'resultFile': '', 'simulationOptions': \"startTime = 0.0, stopTime = 1.0, numberOfIntervals = 500, tolerance = 1e-06, method = 'dassl', fileNamePrefix = 'Example', options = '', outputFormat = 'mat', variableFilter = '.*', cflags = '', simflags = ''\", 'messages': 'Failed to build model: Example', 'timeFrontend': 0.3406216, 'timeBackend': 0.0, 'timeSimCode': 0.0, 'timeTemplates': 0.0, 'timeCompile': 0.0, 'timeSimulation': 0.0, 'timeTotal': 0.3407}"
      ]
     },
     "metadata": {},
     "output_type": "display_data"
    }
   ],
   "source": [
    "simulate(Example)"
   ]
  },
  {
   "cell_type": "code",
   "execution_count": 5,
   "metadata": {},
   "outputs": [
    {
     "data": {
      "text/plain": [
       "\n"
      ]
     },
     "metadata": {},
     "output_type": "display_data"
    }
   ],
   "source": []
  },
  {
   "cell_type": "code",
   "execution_count": null,
   "metadata": {},
   "outputs": [],
   "source": []
  }
 ],
 "metadata": {
  "kernelspec": {
   "display_name": "OpenModelica",
   "language": "OpenModelica",
   "name": "openmodelica"
  },
  "language_info": {
   "mimetype": "text/x-modelica",
   "name": "modelica",
   "version": "1.0"
  }
 },
 "nbformat": 4,
 "nbformat_minor": 2
}
